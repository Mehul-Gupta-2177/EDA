{
 "cells": [
  {
   "cell_type": "code",
   "execution_count": null,
   "id": "faba644d",
   "metadata": {},
   "outputs": [],
   "source": [
    "import my"
   ]
  },
  {
   "cell_type": "code",
   "execution_count": 3,
   "id": "2555f467",
   "metadata": {},
   "outputs": [
    {
     "name": "stdout",
     "output_type": "stream",
     "text": [
      "this is cool\n",
      "Hello Python\n"
     ]
    }
   ],
   "source": [
    "my.sayhello()\n"
   ]
  },
  {
   "cell_type": "code",
   "execution_count": 6,
   "id": "6fbf297b",
   "metadata": {},
   "outputs": [
    {
     "name": "stdout",
     "output_type": "stream",
     "text": [
      "\f",
      "\n"
     ]
    }
   ],
   "source": [
    "clear"
   ]
  },
  {
   "cell_type": "code",
   "execution_count": 7,
   "id": "25d3c603",
   "metadata": {},
   "outputs": [],
   "source": [
    "import my"
   ]
  },
  {
   "cell_type": "code",
   "execution_count": 8,
   "id": "e009f032",
   "metadata": {},
   "outputs": [
    {
     "ename": "NameError",
     "evalue": "name 'geom_line' is not defined",
     "output_type": "error",
     "traceback": [
      "\u001b[1;31m---------------------------------------------------------------------------\u001b[0m",
      "\u001b[1;31mNameError\u001b[0m                                 Traceback (most recent call last)",
      "Input \u001b[1;32mIn [8]\u001b[0m, in \u001b[0;36m<cell line: 1>\u001b[1;34m()\u001b[0m\n\u001b[1;32m----> 1\u001b[0m \u001b[43mmy\u001b[49m\u001b[38;5;241;43m.\u001b[39;49m\u001b[43msayhello\u001b[49m\u001b[43m(\u001b[49m\u001b[43m)\u001b[49m\n",
      "File \u001b[1;32m~\\Untitled Folder\\my.py:5\u001b[0m, in \u001b[0;36msayhello\u001b[1;34m()\u001b[0m\n\u001b[0;32m      4\u001b[0m \u001b[38;5;28;01mdef\u001b[39;00m \u001b[38;5;21msayhello\u001b[39m():\n\u001b[1;32m----> 5\u001b[0m     myPlot \u001b[38;5;241m=\u001b[39m ggplot(economics) \u001b[38;5;241m+\u001b[39m aes(x\u001b[38;5;241m=\u001b[39m\u001b[38;5;124m\"\u001b[39m\u001b[38;5;124mdate\u001b[39m\u001b[38;5;124m\"\u001b[39m, y\u001b[38;5;241m=\u001b[39m\u001b[38;5;124m\"\u001b[39m\u001b[38;5;124mpop\u001b[39m\u001b[38;5;124m\"\u001b[39m) \u001b[38;5;241m+\u001b[39m \u001b[43mgeom_line\u001b[49m()\n\u001b[0;32m      6\u001b[0m     myPlot\u001b[38;5;241m.\u001b[39msave(\u001b[38;5;124m\"\u001b[39m\u001b[38;5;124mmyplot.png\u001b[39m\u001b[38;5;124m\"\u001b[39m, dpi\u001b[38;5;241m=\u001b[39m\u001b[38;5;241m600\u001b[39m)\n",
      "\u001b[1;31mNameError\u001b[0m: name 'geom_line' is not defined"
     ]
    }
   ],
   "source": [
    "my.sayhello()"
   ]
  },
  {
   "cell_type": "code",
   "execution_count": 1,
   "id": "6cd2f121",
   "metadata": {},
   "outputs": [],
   "source": [
    "import my"
   ]
  },
  {
   "cell_type": "code",
   "execution_count": 2,
   "id": "d972ed00",
   "metadata": {},
   "outputs": [
    {
     "name": "stderr",
     "output_type": "stream",
     "text": [
      "C:\\Users\\Mehul Gupta\\anaconda3\\lib\\site-packages\\plotnine\\ggplot.py:718: PlotnineWarning: Saving 6.4 x 4.8 in image.\n",
      "C:\\Users\\Mehul Gupta\\anaconda3\\lib\\site-packages\\plotnine\\ggplot.py:719: PlotnineWarning: Filename: myplot.png\n"
     ]
    }
   ],
   "source": [
    "my.sayhello()"
   ]
  },
  {
   "cell_type": "markdown",
   "id": "b93146e5",
   "metadata": {},
   "source": [
    "rename "
   ]
  }
 ],
 "metadata": {
  "kernelspec": {
   "display_name": "Python 3 (ipykernel)",
   "language": "python",
   "name": "python3"
  },
  "language_info": {
   "codemirror_mode": {
    "name": "ipython",
    "version": 3
   },
   "file_extension": ".py",
   "mimetype": "text/x-python",
   "name": "python",
   "nbconvert_exporter": "python",
   "pygments_lexer": "ipython3",
   "version": "3.9.12"
  }
 },
 "nbformat": 4,
 "nbformat_minor": 5
}
